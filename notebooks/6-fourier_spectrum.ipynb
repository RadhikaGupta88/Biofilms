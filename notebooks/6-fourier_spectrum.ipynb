{
 "cells": [
  {
   "cell_type": "code",
   "execution_count": 2,
   "source": [
    "from skimage.io import imread\n",
    "from src.processing.constants import MECHANICS_OF_BIOFILM_PATH\n",
    "from src.processing.fourier_spectrum import fft_image, plot_fourier_spectrum_subplots"
   ],
   "outputs": [],
   "metadata": {}
  },
  {
   "cell_type": "markdown",
   "source": [
    "Read image stacks from directory"
   ],
   "metadata": {}
  },
  {
   "cell_type": "code",
   "execution_count": 3,
   "source": [
    "stack_1 = imread(str(MECHANICS_OF_BIOFILM_PATH / 'original videos/200920_biolight_orginal.tif'))\n",
    "stack_2 = imread(str(MECHANICS_OF_BIOFILM_PATH / 'original videos/200920_normallight_orginal.tif'))"
   ],
   "outputs": [],
   "metadata": {}
  },
  {
   "cell_type": "markdown",
   "source": [
    "Plot interactive fourier spectrum"
   ],
   "metadata": {}
  },
  {
   "cell_type": "code",
   "execution_count": 4,
   "source": [
    "%matplotlib widget\n",
    "plot_fourier_spectrum_subplots(stack_1, stack_2)\n"
   ],
   "outputs": [
    {
     "output_type": "display_data",
     "data": {
      "text/plain": [
       "Canvas(toolbar=Toolbar(toolitems=[('Home', 'Reset original view', 'home', 'home'), ('Back', 'Back to previous …"
      ],
      "application/vnd.jupyter.widget-view+json": {
       "version_major": 2,
       "version_minor": 0,
       "model_id": "73442b54fc804935855b213a8df0cee3"
      }
     },
     "metadata": {}
    }
   ],
   "metadata": {}
  },
  {
   "cell_type": "code",
   "execution_count": null,
   "source": [],
   "outputs": [],
   "metadata": {}
  }
 ],
 "metadata": {
  "orig_nbformat": 4,
  "language_info": {
   "name": "python",
   "version": "3.7.10",
   "mimetype": "text/x-python",
   "codemirror_mode": {
    "name": "ipython",
    "version": 3
   },
   "pygments_lexer": "ipython3",
   "nbconvert_exporter": "python",
   "file_extension": ".py"
  },
  "kernelspec": {
   "name": "python3",
   "display_name": "Python 3.7.10 64-bit ('biofilm_env': conda)"
  },
  "interpreter": {
   "hash": "87e47a461e0491dfcd5bc14a90fda2ca52b0589217c562a60fa04066c07e5c87"
  }
 },
 "nbformat": 4,
 "nbformat_minor": 2
}