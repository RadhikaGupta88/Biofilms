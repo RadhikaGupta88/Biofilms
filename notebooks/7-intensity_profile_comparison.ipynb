{
 "cells": [
  {
   "cell_type": "code",
   "execution_count": 1,
   "source": [
    "import matplotlib.pyplot as plt\n",
    "import numpy as np\n",
    "from matplotlib.widgets import Slider\n",
    "from scipy.ndimage.filters import gaussian_filter\n",
    "from skimage.io import imread\n",
    "from src.processing.constants import BUCKLING_PATH"
   ],
   "outputs": [],
   "metadata": {}
  },
  {
   "cell_type": "code",
   "execution_count": 2,
   "source": [
    "bio_stack = imread(str(BUCKLING_PATH / '200920_biolight_nobg_nooutliers_despeckle_enhance.tif'))\n",
    "bright_stack = imread(str(BUCKLING_PATH / '200920_normallight_nobg_edges_gaussblur_enhance.tif'))"
   ],
   "outputs": [],
   "metadata": {}
  },
  {
   "cell_type": "code",
   "execution_count": 3,
   "source": [
    "slice_no_bio = 150\n",
    "STACK_B_TO_N_RATIO = len(bio_stack) / len(bright_stack)\n",
    "slice_no_bright = int(slice_no_bio / STACK_B_TO_N_RATIO)"
   ],
   "outputs": [],
   "metadata": {}
  },
  {
   "cell_type": "code",
   "execution_count": 4,
   "source": [
    "def access_row_data(biolum, bright, row):\n",
    "\n",
    "    if len(np.shape(biolum)) == 3: #if mulitchannel data\n",
    "        bio_data = biolum[row, :, 0]\n",
    "        bright_data = bright[row, :, 0]\n",
    "        integers = list(range(1, len(bio_data)+1))\n",
    "\n",
    "    if len(np.shape(biolum)) == 2: #if greyscale data\n",
    "        bio_data = biolum[row, :]\n",
    "        bright_data = bright[row, :]\n",
    "        integers = list(range(1, len(bio_data) + 1))\n",
    "\n",
    "    return integers, bio_data, bright_data"
   ],
   "outputs": [],
   "metadata": {}
  },
  {
   "cell_type": "code",
   "execution_count": 5,
   "source": [
    "def intensity_profile_interactive(biolight_img, brightfield_img, gaussian_filter_sigma=None):\n",
    "\n",
    "    if gaussian_filter_sigma != None:\n",
    "        biolight_img =  gaussian_filter(biolight_img, sigma=gaussian_filter_sigma)\n",
    "        brightfield_img =  gaussian_filter(brightfield_img, sigma=gaussian_filter_sigma)\n",
    "\n",
    "    rows, columns = np.shape(biolight_img)\n",
    "\n",
    "    #setup figure\n",
    "    fig, (ax1, ax2) = plt.subplots(1,2)\n",
    "    fig.set_size_inches(15,10)\n",
    "    plt.subplots_adjust(left = 0.1, bottom = 0.35)\n",
    "\n",
    "    #subplot 1\n",
    "    integers, bio_data, bright_data = access_row_data(biolight_img, brightfield_img, 600)\n",
    "    bio_plot, = ax1.plot(integers, bio_data, label='bioluminescence')\n",
    "    bright_plot, = ax1.plot(integers, bright_data, label='brightfield')\n",
    "    ax1.legend(loc=\"upper right\")\n",
    "    ax1.set_xlabel('Column')\n",
    "    ax1.set_ylabel('Relative pixel intensity')\n",
    "    ax1.set_title('Intensity profile')\n",
    "\n",
    "    #interactive slider setup\n",
    "    axSlider = plt.axes([0.1, 0.2, 0.8, 0.05])\n",
    "    row_slider = Slider(axSlider, 'row', valmin=1, valmax=1039, valstep=1)\n",
    "\n",
    "    #subplot 2\n",
    "    ax2.imshow(brightfield_img)\n",
    "    line, = ax2.plot(np.zeros(columns), color='r', linestyle='-')\n",
    "    ax2.set_title('Brightfield image')\n",
    "\n",
    "\n",
    "    def val_update(val):\n",
    "        row = row_slider.val\n",
    "        bio_plot.set_ydata(access_row_data(biolight_img, brightfield_img, row)[1])\n",
    "        bright_plot.set_ydata(access_row_data(biolight_img, brightfield_img, row)[2])\n",
    "        line.set_ydata(row)\n",
    "        plt.draw()\n",
    "\n",
    "    row_slider.on_changed(val_update)\n",
    "\n",
    "    plt.show()"
   ],
   "outputs": [],
   "metadata": {}
  },
  {
   "cell_type": "code",
   "execution_count": 8,
   "source": [
    "%matplotlib widget\n",
    "\n",
    "intensity_profile_interactive(bio_stack[slice_no_bio]/np.max(bio_stack[slice_no_bio]), (bright_stack[slice_no_bright])/np.max(bright_stack[slice_no_bright]), 1)"
   ],
   "outputs": [
    {
     "output_type": "display_data",
     "data": {
      "text/plain": [
       "Canvas(toolbar=Toolbar(toolitems=[('Home', 'Reset original view', 'home', 'home'), ('Back', 'Back to previous …"
      ],
      "application/vnd.jupyter.widget-view+json": {
       "version_major": 2,
       "version_minor": 0,
       "model_id": "ca0dbeb7775645d7b1dfe196b3402c17"
      }
     },
     "metadata": {}
    }
   ],
   "metadata": {}
  },
  {
   "cell_type": "code",
   "execution_count": null,
   "source": [],
   "outputs": [],
   "metadata": {}
  }
 ],
 "metadata": {
  "orig_nbformat": 4,
  "language_info": {
   "name": "python",
   "version": "3.7.10",
   "mimetype": "text/x-python",
   "codemirror_mode": {
    "name": "ipython",
    "version": 3
   },
   "pygments_lexer": "ipython3",
   "nbconvert_exporter": "python",
   "file_extension": ".py"
  },
  "kernelspec": {
   "name": "python3",
   "display_name": "Python 3.7.10 64-bit ('biofilm_env': conda)"
  },
  "interpreter": {
   "hash": "87e47a461e0491dfcd5bc14a90fda2ca52b0589217c562a60fa04066c07e5c87"
  }
 },
 "nbformat": 4,
 "nbformat_minor": 2
}